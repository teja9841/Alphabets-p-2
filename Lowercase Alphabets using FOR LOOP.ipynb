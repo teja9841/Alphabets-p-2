{
 "cells": [
  {
   "cell_type": "code",
   "execution_count": 1,
   "id": "c4334484",
   "metadata": {},
   "outputs": [],
   "source": [
    "# Creating lower case Alphabets using (*)'s with for loop"
   ]
  },
  {
   "cell_type": "code",
   "execution_count": 25,
   "id": "77a2c605",
   "metadata": {},
   "outputs": [
    {
     "name": "stdout",
     "output_type": "stream",
     "text": [
      "  ***\n",
      " *   *\n",
      " *   * *\n",
      " *   ***\n",
      "  ***\n"
     ]
    }
   ],
   "source": [
    "for a in range(0,2):\n",
    "    if a==1:\n",
    "        print(\"  ***\\n *   *\\n *   * *\\n *   ***\\n  ***\")\n"
   ]
  },
  {
   "cell_type": "code",
   "execution_count": 28,
   "id": "8159ffa1",
   "metadata": {},
   "outputs": [
    {
     "name": "stdout",
     "output_type": "stream",
     "text": [
      "*\n",
      "*\n",
      "***\n",
      "*  *\n",
      "*  *\n",
      "***\n"
     ]
    }
   ],
   "source": [
    "for b in range(0,2):\n",
    "    if b==1:\n",
    "        print(\"*\\n*\\n***\\n*  *\\n*  *\\n***\")"
   ]
  },
  {
   "cell_type": "code",
   "execution_count": 34,
   "id": "d2f62ed2",
   "metadata": {},
   "outputs": [
    {
     "name": "stdout",
     "output_type": "stream",
     "text": [
      "  ***\n",
      " *   \n",
      " *\n",
      " *   \n",
      "  ***\n"
     ]
    }
   ],
   "source": [
    "for c in range(0,2):\n",
    "    if c==1:\n",
    "        print(\"  ***\\n *   \\n *\\n *   \\n  ***\")"
   ]
  },
  {
   "cell_type": "code",
   "execution_count": 35,
   "id": "bea7193d",
   "metadata": {},
   "outputs": [
    {
     "name": "stdout",
     "output_type": "stream",
     "text": [
      "   *\n",
      "   *\n",
      " ***\n",
      "*  *\n",
      "*  *\n",
      " ***\n"
     ]
    }
   ],
   "source": [
    "for d in range(0,2):\n",
    "    if d==1:\n",
    "        print(\"   *\\n   *\\n ***\\n*  *\\n*  *\\n ***\")"
   ]
  },
  {
   "cell_type": "code",
   "execution_count": 37,
   "id": "ddbd7c84",
   "metadata": {},
   "outputs": [
    {
     "name": "stdout",
     "output_type": "stream",
     "text": [
      "  ***\n",
      " *   *\n",
      " * ***\n",
      " *\n",
      " *   *\n",
      "  ***\n"
     ]
    }
   ],
   "source": [
    "for e in range(0,2):\n",
    "    if e==1:\n",
    "        print(\"  ***\\n *   *\\n * ***\\n *\\n *   *\\n  ***\")"
   ]
  },
  {
   "cell_type": "code",
   "execution_count": 72,
   "id": "f333b273",
   "metadata": {},
   "outputs": [
    {
     "name": "stdout",
     "output_type": "stream",
     "text": [
      " ***\n",
      "*  \n",
      "*\n",
      "****\n",
      "*\n",
      "*\n",
      "*\n"
     ]
    }
   ],
   "source": [
    "for f in range(0,2):\n",
    "    if f==1:\n",
    "        print(\" ***\\n*  \\n*\\n****\\n*\\n*\\n*\")"
   ]
  },
  {
   "cell_type": "code",
   "execution_count": 67,
   "id": "4edc5061",
   "metadata": {},
   "outputs": [
    {
     "name": "stdout",
     "output_type": "stream",
     "text": [
      "  *** *\n",
      " *   *\n",
      " *   *\n",
      "  ****\n",
      "     *\n",
      " *   *\n",
      "  ***\n"
     ]
    }
   ],
   "source": [
    "for g in range(0,2):\n",
    "    if g==1:\n",
    "        print(\"  *** *\\n *   *\\n *   *\\n  ****\\n     *\\n *   *\\n  ***\")"
   ]
  },
  {
   "cell_type": "code",
   "execution_count": 68,
   "id": "8ef19289",
   "metadata": {},
   "outputs": [
    {
     "name": "stdout",
     "output_type": "stream",
     "text": [
      "*\n",
      "*\n",
      "*\n",
      "* ***\n",
      "*    *\n",
      "*    *\n",
      "*    *\n"
     ]
    }
   ],
   "source": [
    "for h in range(0,2):\n",
    "    if h==1:\n",
    "        print(\"*\\n*\\n*\\n* ***\\n*    *\\n*    *\\n*    *\")"
   ]
  },
  {
   "cell_type": "code",
   "execution_count": 85,
   "id": "cf8fe5ae",
   "metadata": {},
   "outputs": [
    {
     "name": "stdout",
     "output_type": "stream",
     "text": [
      "   **\n",
      "   **\n",
      "\n",
      "   **\n",
      "   **\n",
      "   **\n",
      "   **\n",
      "   **\n"
     ]
    }
   ],
   "source": [
    "for i in range(0,2):\n",
    "    if i==1:\n",
    "        print(\"   **\\n   **\\n\\n   **\\n   **\\n   **\\n   **\\n   **\")"
   ]
  },
  {
   "cell_type": "code",
   "execution_count": 89,
   "id": "1d82fe68",
   "metadata": {},
   "outputs": [
    {
     "name": "stdout",
     "output_type": "stream",
     "text": [
      "   **\n",
      "   **\n",
      "\n",
      "   **\n",
      "   **\n",
      "   **\n",
      "*  **\n",
      " ***\n"
     ]
    }
   ],
   "source": [
    "for j in range(0,2):\n",
    "    if j==1:\n",
    "        print(\"   **\\n   **\\n\\n   **\\n   **\\n   **\\n*  **\\n ***\")"
   ]
  },
  {
   "cell_type": "code",
   "execution_count": 95,
   "id": "66bec6b8",
   "metadata": {},
   "outputs": [
    {
     "name": "stdout",
     "output_type": "stream",
     "text": [
      "*   *\n",
      "*  *\n",
      "**\n",
      "*\n",
      "**\n",
      "*  *\n",
      "*   *\n"
     ]
    }
   ],
   "source": [
    "for k in range(0,2):\n",
    "    if k==1:\n",
    "        print(\"*   *\\n*  *\\n**\\n*\\n**\\n*  *\\n*   *\")"
   ]
  },
  {
   "cell_type": "code",
   "execution_count": 97,
   "id": "5563b90a",
   "metadata": {},
   "outputs": [
    {
     "name": "stdout",
     "output_type": "stream",
     "text": [
      "   **\n",
      "   **\n",
      "   **\n",
      "   **\n",
      "   **\n",
      "   **\n",
      "   **\n"
     ]
    }
   ],
   "source": [
    "for l in range(0,2):\n",
    "    if l==1:\n",
    "        print(\"   **\\n   **\\n   **\\n   **\\n   **\\n   **\\n   **\")"
   ]
  },
  {
   "cell_type": "code",
   "execution_count": 100,
   "id": "3e2d7174",
   "metadata": {},
   "outputs": [
    {
     "name": "stdout",
     "output_type": "stream",
     "text": [
      "* ** **\n",
      " *  *  *\n",
      " *  *  *\n",
      " *     *\n",
      " *     *\n"
     ]
    }
   ],
   "source": [
    "for m in range(0,2):\n",
    "    if m==1:\n",
    "        print(\"* ** **\\n *  *  *\\n *  *  *\\n *     *\\n *     *\")"
   ]
  },
  {
   "cell_type": "code",
   "execution_count": 119,
   "id": "526776f5",
   "metadata": {},
   "outputs": [
    {
     "name": "stdout",
     "output_type": "stream",
     "text": [
      "* *****\n",
      " *     *\n",
      " *     *\n",
      " *     *\n",
      " *     *\n"
     ]
    }
   ],
   "source": [
    "for n in range(0,2):\n",
    "    if n==1:\n",
    "        print(\"* *****\\n *     *\\n *     *\\n *     *\\n *     *\")"
   ]
  },
  {
   "cell_type": "code",
   "execution_count": 102,
   "id": "8be42e1e",
   "metadata": {},
   "outputs": [
    {
     "name": "stdout",
     "output_type": "stream",
     "text": [
      "  ***\n",
      " *   *\n",
      " *   * \n",
      " *   *\n",
      "  ***\n"
     ]
    }
   ],
   "source": [
    "for o in range(0,2):\n",
    "    if o==1:\n",
    "        print(\"  ***\\n *   *\\n *   * \\n *   *\\n  ***\")"
   ]
  },
  {
   "cell_type": "code",
   "execution_count": 71,
   "id": "8bf4aa15",
   "metadata": {},
   "outputs": [
    {
     "name": "stdout",
     "output_type": "stream",
     "text": [
      "****\n",
      "*   *\n",
      "*   *\n",
      "****\n",
      "*\n",
      "*\n",
      "*\n"
     ]
    }
   ],
   "source": [
    "for p in range(0,2):\n",
    "    if p==1:\n",
    "        print(\"****\\n*   *\\n*   *\\n****\\n*\\n*\\n*\")"
   ]
  },
  {
   "cell_type": "code",
   "execution_count": 106,
   "id": "3d77ba6c",
   "metadata": {},
   "outputs": [
    {
     "name": "stdout",
     "output_type": "stream",
     "text": [
      " *** *\n",
      "*   *\n",
      "*   *\n",
      " ** *  *\n",
      "    * *\n",
      "    **\n",
      "    *\n"
     ]
    }
   ],
   "source": [
    "for q in range(0,2):\n",
    "    if q==1:\n",
    "        print(\" *** *\\n*   *\\n*   *\\n ** *  *\\n    * *\\n    **\\n    *\")"
   ]
  },
  {
   "cell_type": "code",
   "execution_count": 122,
   "id": "84079cef",
   "metadata": {},
   "outputs": [
    {
     "name": "stdout",
     "output_type": "stream",
     "text": [
      "**   **\n",
      "  * *\n",
      "   *\n",
      "  * *\n",
      "  * *\n",
      "  * *\n",
      "   *\n"
     ]
    }
   ],
   "source": [
    "for r in range(0,2):\n",
    "    if r==1:\n",
    "        print(\"**   **\\n  * *\\n   *\\n  * *\\n  * *\\n  * *\\n   *\")"
   ]
  },
  {
   "cell_type": "code",
   "execution_count": 124,
   "id": "64443ddf",
   "metadata": {},
   "outputs": [
    {
     "name": "stdout",
     "output_type": "stream",
     "text": [
      "  **\n",
      " *  *\n",
      " *\n",
      "  **\n",
      "    *\n",
      " *  *\n",
      "  **\n"
     ]
    }
   ],
   "source": [
    "for s in range(0,2):\n",
    "    if s==1:\n",
    "        print(\"  **\\n *  *\\n *\\n  **\\n    *\\n *  *\\n  **\")"
   ]
  },
  {
   "cell_type": "code",
   "execution_count": 80,
   "id": "b92c4a56",
   "metadata": {},
   "outputs": [
    {
     "name": "stdout",
     "output_type": "stream",
     "text": [
      "*\n",
      "*\n",
      "****\n",
      "*\n",
      "*\n",
      "*  *\n",
      " **\n"
     ]
    }
   ],
   "source": [
    "for t in range(0,2):\n",
    "    if t==1:\n",
    "        print(\"*\\n*\\n****\\n*\\n*\\n*  *\\n **\")"
   ]
  },
  {
   "cell_type": "code",
   "execution_count": 107,
   "id": "45392dc1",
   "metadata": {},
   "outputs": [
    {
     "name": "stdout",
     "output_type": "stream",
     "text": [
      " *   *\n",
      " *   *\n",
      " *   *\n",
      "* ***\n"
     ]
    }
   ],
   "source": [
    "for u in range(0,2):\n",
    "    if u==1:\n",
    "        print(\" *   *\\n *   *\\n *   *\\n* ***\")"
   ]
  },
  {
   "cell_type": "code",
   "execution_count": 109,
   "id": "337360b6",
   "metadata": {},
   "outputs": [
    {
     "name": "stdout",
     "output_type": "stream",
     "text": [
      " *   *\n",
      " *   *\n",
      " *   *\n",
      "  * *\n",
      "   *\n"
     ]
    }
   ],
   "source": [
    "for v in range(0,2):\n",
    "    if v==1:\n",
    "        print(\" *   *\\n *   *\\n *   *\\n  * *\\n   *\")"
   ]
  },
  {
   "cell_type": "code",
   "execution_count": 114,
   "id": "6d5ce695",
   "metadata": {},
   "outputs": [
    {
     "name": "stdout",
     "output_type": "stream",
     "text": [
      " *   *   *\n",
      " *   *   *\n",
      " *   *   *\n",
      "  * * * *\n",
      "   *   *\n"
     ]
    }
   ],
   "source": [
    "for w in range(0,2):\n",
    "    if w==1:\n",
    "        print(\" *   *   *\\n *   *   *\\n *   *   *\\n  * * * *\\n   *   *\")"
   ]
  },
  {
   "cell_type": "code",
   "execution_count": 130,
   "id": "118b44d0",
   "metadata": {},
   "outputs": [
    {
     "name": "stdout",
     "output_type": "stream",
     "text": [
      "*   *\n",
      " * *\n",
      "  *\n",
      " * *\n",
      "*   *\n"
     ]
    }
   ],
   "source": [
    "for x in range(0,2):\n",
    "    if x==1:\n",
    "        print(\"*   *\\n * *\\n  *\\n * *\\n*   *\")"
   ]
  },
  {
   "cell_type": "code",
   "execution_count": 118,
   "id": "45826c95",
   "metadata": {},
   "outputs": [
    {
     "name": "stdout",
     "output_type": "stream",
     "text": [
      " *   *\n",
      " *   *\n",
      " *   *\n",
      "  ***\n",
      "   *\n",
      "   *\n",
      "  *\n"
     ]
    }
   ],
   "source": [
    "for y in range(0,2):\n",
    "    if y==1:\n",
    "        print(\" *   *\\n *   *\\n *   *\\n  ***\\n   *\\n   *\\n  *\")"
   ]
  },
  {
   "cell_type": "code",
   "execution_count": 127,
   "id": "12eb2da7",
   "metadata": {},
   "outputs": [
    {
     "name": "stdout",
     "output_type": "stream",
     "text": [
      "*****\n",
      "   *\n",
      " ***\n",
      " *\n",
      "*****\n"
     ]
    }
   ],
   "source": [
    "for z in range(0,2):\n",
    "    if z==1:\n",
    "        print(\"*****\\n   *\\n ***\\n *\\n*****\")"
   ]
  }
 ],
 "metadata": {
  "kernelspec": {
   "display_name": "Python 3 (ipykernel)",
   "language": "python",
   "name": "python3"
  },
  "language_info": {
   "codemirror_mode": {
    "name": "ipython",
    "version": 3
   },
   "file_extension": ".py",
   "mimetype": "text/x-python",
   "name": "python",
   "nbconvert_exporter": "python",
   "pygments_lexer": "ipython3",
   "version": "3.9.7"
  }
 },
 "nbformat": 4,
 "nbformat_minor": 5
}
